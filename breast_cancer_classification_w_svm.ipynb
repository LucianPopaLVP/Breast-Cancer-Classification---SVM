{
 "cells": [
  {
   "cell_type": "markdown",
   "id": "966152f2",
   "metadata": {},
   "source": [
    "# CASE STUDY: BREAST CANCER CLASSIFICATION"
   ]
  },
  {
   "cell_type": "markdown",
   "id": "b20c19be",
   "metadata": {},
   "source": [
    "## STEP #1: PROBLEM STATEMENT"
   ]
  },
  {
   "cell_type": "markdown",
   "id": "306d450d",
   "metadata": {},
   "source": [
    "- Predicting if the cancer diagnosis is benign or malignant based on several observations/features \n",
    "- 30 features are used, examples:\n",
    "        - radius (mean of distances from center to points on the perimeter)\n",
    "        - texture (standard deviation of gray-scale values)\n",
    "        - perimeter\n",
    "        - area\n",
    "        - smoothness (local variation in radius lengths)\n",
    "        - compactness (perimeter^2 / area - 1.0)\n",
    "        - concavity (severity of concave portions of the contour)\n",
    "        - concave points (number of concave portions of the contour)\n",
    "        - symmetry \n",
    "        - fractal dimension (\"coastline approximation\" - 1)\n",
    "\n",
    "- Datasets are linearly separable using all 30 input features\n",
    "- Number of Instances: 569\n",
    "- Class Distribution: 212 Malignant, 357 Benign\n",
    "- Target class:\n",
    "         - Malignant\n",
    "         - Benign\n",
    "\n",
    "\n",
    "https://archive.ics.uci.edu/ml/datasets/Breast+Cancer+Wisconsin+(Diagnostic)\n"
   ]
  },
  {
   "cell_type": "markdown",
   "id": "5f28649f",
   "metadata": {},
   "source": [
    "## STEP #2: IMPORTING DATA"
   ]
  },
  {
   "cell_type": "code",
   "execution_count": null,
   "id": "449b7151",
   "metadata": {},
   "outputs": [],
   "source": [
    "# import libraries \n",
    "import pandas as pd \n",
    "import numpy as np \n",
    "import matplotlib.pyplot as plt \n",
    "import seaborn as sns \n",
    "%matplotlib inline"
   ]
  },
  {
   "cell_type": "code",
   "execution_count": null,
   "id": "c46837b3",
   "metadata": {},
   "outputs": [],
   "source": [
    "# Import Cancer data drom the Sklearn library\n",
    "from sklearn.datasets import load_breast_cancer\n",
    "cancer = load_breast_cancer()"
   ]
  },
  {
   "cell_type": "code",
   "execution_count": null,
   "id": "628070b6",
   "metadata": {},
   "outputs": [],
   "source": [
    "cancer"
   ]
  },
  {
   "cell_type": "code",
   "execution_count": null,
   "id": "f7d051a5",
   "metadata": {},
   "outputs": [],
   "source": [
    "cancer.keys()"
   ]
  },
  {
   "cell_type": "code",
   "execution_count": null,
   "id": "ef6c6604",
   "metadata": {},
   "outputs": [],
   "source": [
    "print(cancer['DESCR'])"
   ]
  },
  {
   "cell_type": "code",
   "execution_count": null,
   "id": "d0228b8b",
   "metadata": {},
   "outputs": [],
   "source": [
    "print(cancer['target_names'])"
   ]
  },
  {
   "cell_type": "code",
   "execution_count": null,
   "id": "cfb3da45",
   "metadata": {},
   "outputs": [],
   "source": [
    "print(cancer['feature_names'])"
   ]
  },
  {
   "cell_type": "code",
   "execution_count": null,
   "id": "4252c6d8",
   "metadata": {},
   "outputs": [],
   "source": [
    "cancer['data'].shape"
   ]
  },
  {
   "cell_type": "code",
   "execution_count": null,
   "id": "a6b5f526",
   "metadata": {},
   "outputs": [],
   "source": [
    "df_cancer = pd.DataFrame(np.c_[cancer['data'], cancer['target']], columns = np.append(cancer['feature_names'], ['target']))"
   ]
  },
  {
   "cell_type": "code",
   "execution_count": null,
   "id": "eb090587",
   "metadata": {},
   "outputs": [],
   "source": [
    "df_cancer.head()"
   ]
  },
  {
   "cell_type": "code",
   "execution_count": null,
   "id": "d97dcbb0",
   "metadata": {},
   "outputs": [],
   "source": [
    "df_cancer.tail()"
   ]
  },
  {
   "cell_type": "markdown",
   "id": "f84bdc5a",
   "metadata": {},
   "source": [
    "## STEP #3: VISUALIZING THE DATA"
   ]
  },
  {
   "cell_type": "code",
   "execution_count": null,
   "id": "d89d5f45",
   "metadata": {},
   "outputs": [],
   "source": [
    "sns.pairplot(df_cancer, hue = 'target', \n",
    "             vars = ['mean radius', 'mean texture', 'mean area', 'mean perimeter', 'mean smoothness'] )"
   ]
  },
  {
   "cell_type": "code",
   "execution_count": null,
   "id": "a3e2951d",
   "metadata": {},
   "outputs": [],
   "source": [
    "sns.countplot(df_cancer['target'], label = \"Count\") "
   ]
  },
  {
   "cell_type": "code",
   "execution_count": null,
   "id": "410f84c1",
   "metadata": {},
   "outputs": [],
   "source": [
    "sns.scatterplot(x = 'mean area', \n",
    "                y = 'mean smoothness', \n",
    "                hue = 'target', \n",
    "                data = df_cancer)"
   ]
  },
  {
   "cell_type": "code",
   "execution_count": null,
   "id": "cdd299ba",
   "metadata": {},
   "outputs": [],
   "source": [
    "# Let's check the correlation between the variables \n",
    "# Strong correlation between the mean radius and mean perimeter, mean area and mean primeter\n",
    "plt.figure(figsize=(20,10)) \n",
    "sns.heatmap(df_cancer.corr(), annot=True) "
   ]
  },
  {
   "cell_type": "markdown",
   "id": "00eb8f8a",
   "metadata": {},
   "source": [
    "## STEP #4: MODEL TRAINING (FINDING A PROBLEM SOLUTION)"
   ]
  },
  {
   "cell_type": "code",
   "execution_count": null,
   "id": "b1306f93",
   "metadata": {},
   "outputs": [],
   "source": [
    "# Let's drop the target label coloumns\n",
    "X = df_cancer.drop(['target'],axis=1)"
   ]
  },
  {
   "cell_type": "code",
   "execution_count": null,
   "id": "160e07d4",
   "metadata": {},
   "outputs": [],
   "source": []
  }
 ],
 "metadata": {
  "kernelspec": {
   "display_name": "Python 3 (ipykernel)",
   "language": "python",
   "name": "python3"
  },
  "language_info": {
   "codemirror_mode": {
    "name": "ipython",
    "version": 3
   },
   "file_extension": ".py",
   "mimetype": "text/x-python",
   "name": "python",
   "nbconvert_exporter": "python",
   "pygments_lexer": "ipython3",
   "version": "3.8.12"
  }
 },
 "nbformat": 4,
 "nbformat_minor": 5
}
