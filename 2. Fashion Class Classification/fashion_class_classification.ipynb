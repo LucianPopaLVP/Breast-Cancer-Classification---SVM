{
 "cells": [
  {
   "cell_type": "markdown",
   "id": "8a276a8b",
   "metadata": {},
   "source": [
    "# CASE STUDY: FASHION CLASS CLASSIFICATION "
   ]
  },
  {
   "cell_type": "markdown",
   "id": "7115d54d",
   "metadata": {},
   "source": [
    "## STEP #1: PROBLEM STATEMENT AND BUSINESS CASE"
   ]
  },
  {
   "cell_type": "markdown",
   "id": "22e9381e",
   "metadata": {},
   "source": [
    "Fashion training set consists of 70,000 images divided into 60,000 training and 10,000 testing samples. Dataset sample consists of 28x28 grayscale image, associated with a label from 10 classes. \n",
    "\n",
    "The 10 classes are as follows:  \n",
    "* 0 => T-shirt/top\n",
    "* 1 => Trouser\n",
    "* 2 => Pullover\n",
    "* 3 => Dress\n",
    "* 4 => Coat\n",
    "* 5 => Sandal\n",
    "* 6 => Shirt\n",
    "* 7 => Sneaker\n",
    "* 8 => Bag\n",
    "* 9 => Ankle boot\n",
    "\n",
    "Each image is 28 pixels in height and 28 pixels in width, for a total of 784 pixels in total. Each pixel has a single pixel-value associated with it, indicating the lightness or darkness of that pixel, with higher numbers meaning darker. This pixel-value is an integer between 0 and 255. "
   ]
  },
  {
   "cell_type": "markdown",
   "id": "0a1ffef2",
   "metadata": {},
   "source": [
    "## STEP #2: IMPORTING DATA"
   ]
  },
  {
   "cell_type": "code",
   "execution_count": null,
   "id": "18faa432",
   "metadata": {},
   "outputs": [],
   "source": [
    "# import libraries \n",
    "import pandas as pd # Import Pandas for data manipulation using dataframes\n",
    "import numpy as np # Import Numpy for data statistical analysis \n",
    "import matplotlib.pyplot as plt # Import matplotlib for data visualisation\n",
    "import seaborn as sns\n",
    "import random"
   ]
  }
 ],
 "metadata": {
  "kernelspec": {
   "display_name": "Python 3 (ipykernel)",
   "language": "python",
   "name": "python3"
  },
  "language_info": {
   "codemirror_mode": {
    "name": "ipython",
    "version": 3
   },
   "file_extension": ".py",
   "mimetype": "text/x-python",
   "name": "python",
   "nbconvert_exporter": "python",
   "pygments_lexer": "ipython3",
   "version": "3.8.12"
  }
 },
 "nbformat": 4,
 "nbformat_minor": 5
}
