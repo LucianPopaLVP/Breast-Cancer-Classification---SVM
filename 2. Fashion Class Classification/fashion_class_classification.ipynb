{
 "cells": [
  {
   "cell_type": "markdown",
   "id": "b7cd64e2",
   "metadata": {},
   "source": [
    "# CASE STUDY: FASHION CLASS CLASSIFICATION "
   ]
  },
  {
   "cell_type": "markdown",
   "id": "8325c157",
   "metadata": {},
   "source": [
    "## STEP #1: PROBLEM STATEMENT AND BUSINESS CASE"
   ]
  },
  {
   "cell_type": "markdown",
   "id": "8f29fa4e",
   "metadata": {},
   "source": [
    "Fashion training set consists of 70,000 images divided into 60,000 training and 10,000 testing samples. Dataset sample consists of 28x28 grayscale image, associated with a label from 10 classes. \n",
    "\n",
    "The 10 classes are as follows:  \n",
    "* 0 => T-shirt/top\n",
    "* 1 => Trouser\n",
    "* 2 => Pullover\n",
    "* 3 => Dress\n",
    "* 4 => Coat\n",
    "* 5 => Sandal\n",
    "* 6 => Shirt\n",
    "* 7 => Sneaker\n",
    "* 8 => Bag\n",
    "* 9 => Ankle boot\n",
    "\n",
    "Each image is 28 pixels in height and 28 pixels in width, for a total of 784 pixels in total. Each pixel has a single pixel-value associated with it, indicating the lightness or darkness of that pixel, with higher numbers meaning darker. This pixel-value is an integer between 0 and 255. "
   ]
  },
  {
   "cell_type": "markdown",
   "id": "5eebded3",
   "metadata": {},
   "source": [
    "## STEP #2: IMPORTING DATA"
   ]
  },
  {
   "cell_type": "code",
   "execution_count": 1,
   "id": "247e4b16",
   "metadata": {},
   "outputs": [],
   "source": [
    "# import libraries \n",
    "import pandas as pd # Import Pandas for data manipulation using dataframes\n",
    "import numpy as np # Import Numpy for data statistical analysis \n",
    "import matplotlib.pyplot as plt # Import matplotlib for data visualisation\n",
    "import seaborn as sns\n",
    "import random"
   ]
  },
  {
   "cell_type": "code",
   "execution_count": 3,
   "id": "01a58292",
   "metadata": {},
   "outputs": [],
   "source": [
    "fashion_train_df = pd.read_csv('data/fashion-mnist_train.csv', sep = ',')"
   ]
  },
  {
   "cell_type": "code",
   "execution_count": null,
   "id": "350807ef",
   "metadata": {},
   "outputs": [],
   "source": [
    "fashion_test"
   ]
  }
 ],
 "metadata": {
  "kernelspec": {
   "display_name": "Python 3 (ipykernel)",
   "language": "python",
   "name": "python3"
  },
  "language_info": {
   "codemirror_mode": {
    "name": "ipython",
    "version": 3
   },
   "file_extension": ".py",
   "mimetype": "text/x-python",
   "name": "python",
   "nbconvert_exporter": "python",
   "pygments_lexer": "ipython3",
   "version": "3.8.12"
  }
 },
 "nbformat": 4,
 "nbformat_minor": 5
}
