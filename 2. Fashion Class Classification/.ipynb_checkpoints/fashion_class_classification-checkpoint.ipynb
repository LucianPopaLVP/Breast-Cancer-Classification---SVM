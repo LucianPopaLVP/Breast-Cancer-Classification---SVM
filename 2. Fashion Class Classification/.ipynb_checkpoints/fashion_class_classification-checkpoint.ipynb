{
 "cells": [
  {
   "cell_type": "markdown",
   "id": "c6ef060f",
   "metadata": {},
   "source": [
    "# CASE STUDY: FASHION CLASS CLASSIFICATION "
   ]
  },
  {
   "cell_type": "markdown",
   "id": "4d5e4ad7",
   "metadata": {},
   "source": [
    "## STEP #1: PROBLEM STATEMENT AND BUSINESS CASE"
   ]
  },
  {
   "cell_type": "code",
   "execution_count": null,
   "id": "ef9e8515",
   "metadata": {},
   "outputs": [],
   "source": []
  }
 ],
 "metadata": {
  "kernelspec": {
   "display_name": "Python 3 (ipykernel)",
   "language": "python",
   "name": "python3"
  },
  "language_info": {
   "codemirror_mode": {
    "name": "ipython",
    "version": 3
   },
   "file_extension": ".py",
   "mimetype": "text/x-python",
   "name": "python",
   "nbconvert_exporter": "python",
   "pygments_lexer": "ipython3",
   "version": "3.8.12"
  }
 },
 "nbformat": 4,
 "nbformat_minor": 5
}
